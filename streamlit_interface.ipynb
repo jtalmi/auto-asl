{
 "cells": [
  {
   "cell_type": "code",
   "execution_count": 5,
   "id": "2c242b06-1e1c-442f-a317-9b174c0cdf4e",
   "metadata": {
    "scrolled": true
   },
   "outputs": [],
   "source": [
    "# !pip install yt_dlp"
   ]
  },
  {
   "cell_type": "code",
   "execution_count": 7,
   "id": "76f1c984-37a3-4bf2-90b8-3a0cd3c3a3d1",
   "metadata": {},
   "outputs": [
    {
     "data": {
      "application/vnd.jupyter.widget-view+json": {
       "model_id": "9cd3eb59388344c1b6dd5aa0c5c2f53c",
       "version_major": 2,
       "version_minor": 0
      },
      "text/plain": [
       "Text(value='', description='YouTube URL:', layout=Layout(width='500px'))"
      ]
     },
     "metadata": {},
     "output_type": "display_data"
    },
    {
     "data": {
      "application/vnd.jupyter.widget-view+json": {
       "model_id": "d5af612dafbf4b66840994b663bb1e0a",
       "version_major": 2,
       "version_minor": 0
      },
      "text/plain": [
       "Button(description='Submit', style=ButtonStyle())"
      ]
     },
     "metadata": {},
     "output_type": "display_data"
    },
    {
     "data": {
      "application/vnd.jupyter.widget-view+json": {
       "model_id": "0fe648d1306c4b4f966f6374eadd095f",
       "version_major": 2,
       "version_minor": 0
      },
      "text/plain": [
       "Output()"
      ]
     },
     "metadata": {},
     "output_type": "display_data"
    }
   ],
   "source": [
    "import ipywidgets as widgets\n",
    "from IPython.display import display, HTML\n",
    "import yt_dlp\n",
    "import os\n",
    "from ipywidgets import Layout\n",
    "import requests\n",
    "import json\n",
    "from dotenv import load_dotenv\n",
    "from urllib.parse import urlparse, parse_qs\n",
    "from requests.adapters import HTTPAdapter\n",
    "from requests.packages.urllib3.util.retry import Retry\n",
    "\n",
    "def get_youtube_id(url):\n",
    "    query = urlparse(url)\n",
    "    if query.hostname == 'youtu.be':\n",
    "        return query.path[1:]\n",
    "    if query.hostname in ('www.youtube.com', 'youtube.com'):\n",
    "        if query.path == '/watch':\n",
    "            p = parse_qs(query.query)\n",
    "            return p['v'][0]\n",
    "        if query.path[:7] == '/embed/':\n",
    "            return query.path.split('/')[2]\n",
    "        if query.path[:3] == '/v/':\n",
    "            return query.path.split('/')[2]\n",
    "    return None\n",
    "\n",
    "def download_video(url):\n",
    "    video_id = get_youtube_id(url)\n",
    "    if not video_id:\n",
    "        raise ValueError(\"Invalid YouTube URL\")\n",
    "    \n",
    "    ydl_opts = {\n",
    "        'format': 'bestvideo[ext=webm]+bestaudio[ext=webm]/best[ext=webm]',\n",
    "        'outtmpl': f'{video_id}.%(ext)s'\n",
    "    }\n",
    "    with yt_dlp.YoutubeDL(ydl_opts) as ydl:\n",
    "        ydl.download([url])\n",
    "    return f'{video_id}.webm'\n",
    "\n",
    "def process_with_deepgram(file_path):\n",
    "    load_dotenv()\n",
    "    \n",
    "    url = \"https://api.deepgram.com/v1/listen\"\n",
    "    params = {\n",
    "        \"diarize\": \"true\",\n",
    "        \"punctuate\": \"true\",\n",
    "        \"utterances\": \"true\"\n",
    "    }\n",
    "    \n",
    "    DEEPGRAM_API_KEY = os.getenv(\"DEEPGRAM_API_KEY\")\n",
    "    headers = {\n",
    "        \"Authorization\": f\"Token {DEEPGRAM_API_KEY}\",\n",
    "        \"Content-Type\": \"video/webm\"\n",
    "    }\n",
    "    \n",
    "    with open(file_path, \"rb\") as file:\n",
    "        data = file.read()\n",
    "    \n",
    "    # Create a retry strategy\n",
    "    retry_strategy = Retry(\n",
    "        total=3,\n",
    "        backoff_factor=1,\n",
    "        status_forcelist=[429, 500, 502, 503, 504],\n",
    "        allowed_methods=[\"HEAD\", \"GET\", \"OPTIONS\", \"POST\"]\n",
    "    )\n",
    "    adapter = HTTPAdapter(max_retries=retry_strategy)\n",
    "    \n",
    "    # Create a session with the retry strategy\n",
    "    session = requests.Session()\n",
    "    session.mount(\"https://\", adapter)\n",
    "    \n",
    "    try:\n",
    "        response = session.post(url, params=params, headers=headers, data=data, verify=True, timeout=30)\n",
    "        response.raise_for_status()  # Raises an HTTPError if the HTTP request returned an unsuccessful status code\n",
    "        \n",
    "        if response.status_code == 200:\n",
    "            result = response.json()\n",
    "            output_filename = f\"{os.path.splitext(file_path)[0]}_transcript.json\"\n",
    "            with open(output_filename, \"w\") as outfile:\n",
    "                json.dump(result, outfile, indent=2)\n",
    "            print(f\"Response saved to {output_filename}\")\n",
    "        else:\n",
    "            print(f\"Error: {response.status_code}\")\n",
    "            print(response.text)\n",
    "    except requests.exceptions.RequestException as e:\n",
    "        print(f\"An error occurred during the request: {e}\")\n",
    "    except json.JSONDecodeError:\n",
    "        print(\"Error decoding JSON response\")\n",
    "    except Exception as e:\n",
    "        print(f\"An unexpected error occurred: {e}\")\n",
    "\n",
    "# Create widgets\n",
    "url_input = widgets.Text(description=\"YouTube URL:\", layout=Layout(width='500px'))\n",
    "submit_button = widgets.Button(description=\"Submit\")\n",
    "output = widgets.Output()\n",
    "\n",
    "# Define button click event\n",
    "def on_button_click(b):\n",
    "    with output:\n",
    "        output.clear_output()\n",
    "        print(\"Downloading video...\")\n",
    "        try:\n",
    "            video_path = download_video(url_input.value)\n",
    "            print(\"Download complete!\")\n",
    "            display(HTML(f'<video width=\"320\" height=\"240\" controls><source src=\"{video_path}\" type=\"video/webm\"></video>'))\n",
    "            \n",
    "            # Create download link\n",
    "            download_link = f'<a href=\"{video_path}\" download>Download Video</a>'\n",
    "            display(HTML(download_link))\n",
    "            \n",
    "            print(\"Processing with Deepgram...\")\n",
    "            process_with_deepgram(video_path)\n",
    "        except Exception as e:\n",
    "            print(f\"An error occurred: {str(e)}\")\n",
    "\n",
    "# Connect the button click event to the function\n",
    "submit_button.on_click(on_button_click)\n",
    "\n",
    "# Display widgets\n",
    "display(url_input, submit_button, output)"
   ]
  },
  {
   "cell_type": "code",
   "execution_count": null,
   "id": "9377cfbd-5184-4b97-9abc-52077bcf1b4d",
   "metadata": {},
   "outputs": [],
   "source": [
    "https://www.youtube.com/watch?v=yJzjyYL8l5Y"
   ]
  }
 ],
 "metadata": {
  "kernelspec": {
   "display_name": "Python 3 (ipykernel)",
   "language": "python",
   "name": "python3"
  },
  "language_info": {
   "codemirror_mode": {
    "name": "ipython",
    "version": 3
   },
   "file_extension": ".py",
   "mimetype": "text/x-python",
   "name": "python",
   "nbconvert_exporter": "python",
   "pygments_lexer": "ipython3",
   "version": "3.11.8"
  }
 },
 "nbformat": 4,
 "nbformat_minor": 5
}
